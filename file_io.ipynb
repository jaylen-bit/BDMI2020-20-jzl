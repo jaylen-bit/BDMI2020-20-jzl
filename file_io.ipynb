{
 "cells": [
  {
   "cell_type": "markdown",
   "metadata": {},
   "source": [
    "# [File I/O](https://docs.python.org/3/tutorial/inputoutput.html#reading-and-writing-files)\n",
    "Reading and writing files."
   ]
  },
  {
   "cell_type": "markdown",
   "metadata": {},
   "source": [
    "## Working with paths"
   ]
  },
  {
   "cell_type": "code",
   "execution_count": 2,
   "metadata": {},
   "outputs": [
    {
     "name": "stdout",
     "output_type": "stream",
     "text": [
      "current file: C:\\Users\\jiang\\Desktop\\BDMI\\BDMI-2020A-master\\file_io.ipynb\n",
      "current directory: C:\\Users\\jiang\\Desktop\\BDMI\\BDMI-2020A-master\n",
      "data directory: C:\\Users\\jiang\\Desktop\\BDMI\\data\n"
     ]
    }
   ],
   "source": [
    "import os\n",
    "\n",
    "current_file = os.path.realpath('file_io.ipynb')  \n",
    "print('current file: {}'.format(current_file))\n",
    "# Note: in .py files you can get the path of current file by __file__\n",
    "\n",
    "current_dir = os.path.dirname(current_file)  \n",
    "print('current directory: {}'.format(current_dir))\n",
    "# Note: in .py files you can get the dir of current file by os.path.dirname(__file__)\n",
    "\n",
    "data_dir = os.path.join(os.path.dirname(current_dir), 'data')\n",
    "print('data directory: {}'.format(data_dir))"
   ]
  },
  {
   "cell_type": "markdown",
   "metadata": {},
   "source": [
    "### Checking if path exists"
   ]
  },
  {
   "cell_type": "code",
   "execution_count": 8,
   "metadata": {},
   "outputs": [
    {
     "name": "stdout",
     "output_type": "stream",
     "text": [
      "exists: True\n",
      "is file: False\n",
      "is directory: True\n"
     ]
    }
   ],
   "source": [
    "print('exists: {}'.format(os.path.exists(data_dir)))\n",
    "print('is file: {}'.format(os.path.isfile(data_dir)))\n",
    "print('is directory: {}'.format(os.path.isdir(data_dir)))"
   ]
  },
  {
   "cell_type": "markdown",
   "metadata": {},
   "source": [
    "## Reading files"
   ]
  },
  {
   "cell_type": "code",
   "execution_count": 16,
   "metadata": {},
   "outputs": [
    {
     "name": "stdout",
     "output_type": "stream",
     "text": [
      "[2,-9,10,1,0,20]\n",
      "[2,-9,10,1,0,2]\n"
     ]
    }
   ],
   "source": [
    "file_path = os.path.join(data_dir, 'simple_file.txt')\n",
    "\n",
    "with open(file_path, 'r') as simple_file:\n",
    "    for line in simple_file:\n",
    "        print(line.strip())"
   ]
  },
  {
   "cell_type": "markdown",
   "metadata": {},
   "source": [
    "The [`with`](https://docs.python.org/3/reference/compound_stmts.html#the-with-statement) statement is for obtaining a [context manager](https://docs.python.org/3/reference/datamodel.html#with-statement-context-managers) that will be used as an execution context for the commands inside the `with`. Context managers guarantee that certain operations are done when exiting the context. \n",
    "\n",
    "In this case, the context manager guarantees that `simple_file.close()` is implicitly called when exiting the context. This is a way to make developers life easier: you don't have to remember to explicitly close the file you openened nor be worried about an exception occuring while the file is open. Unclosed file maybe a source of a resource leak. Thus, prefer using `with open()` structure always with file I/O.\n",
    "\n",
    "To have an example, the same as above without the `with`."
   ]
  },
  {
   "cell_type": "code",
   "execution_count": 25,
   "metadata": {},
   "outputs": [
    {
     "name": "stdout",
     "output_type": "stream",
     "text": [
      "sdasda\n"
     ]
    }
   ],
   "source": [
    "\n",
    "# THIS IS NOT THE PREFERRED WAY\n",
    "simple_file = open('D:\\Python\\jzl.txt', 'r')\n",
    "for line in simple_file:\n",
    "    print(line.strip())\n",
    "simple_file.close()  # This has to be called explicitly "
   ]
  },
  {
   "cell_type": "markdown",
   "metadata": {},
   "source": [
    "## Writing files"
   ]
  },
  {
   "cell_type": "code",
   "execution_count": 13,
   "metadata": {
    "scrolled": true
   },
   "outputs": [],
   "source": [
    "new_file_path = os.path.join(data_dir, 'new_file2.txt')\n",
    "\n",
    "with open(new_file_path, 'w') as my_file:\n",
    "    my_file.write('This is my first file that I wrote with Python.')\n",
    "    my_file.write('\\n''姜智霖2017')\n",
    "    my_file.write('\\n''郑波珅2017')\n",
    "    my_file.write('\\n''徐宇轩2017')\n",
    "my_file.close()"
   ]
  },
  {
   "cell_type": "markdown",
   "metadata": {},
   "source": [
    "Now go and check that there is a new_file.txt in the data directory. After that you can delete the file by:"
   ]
  },
  {
   "cell_type": "code",
   "execution_count": 7,
   "metadata": {},
   "outputs": [],
   "source": [
    "if os.path.exists(new_file_path):  # make sure it's there\n",
    "    os.remove(new_file_path)"
   ]
  },
  {
   "cell_type": "code",
   "execution_count": 24,
   "metadata": {},
   "outputs": [],
   "source": [
    "import random\n",
    "new_file_path = os.path.join(data_dir, 'data.txt')\n",
    "\n",
    "with open(new_file_path, 'w') as my_file:\n",
    "    for i in range (100):\n",
    "        my_file.write(str(random.randint(1,100))+' ')  \n",
    "my_file.close()"
   ]
  },
  {
   "cell_type": "code",
   "execution_count": null,
   "metadata": {},
   "outputs": [],
   "source": []
  },
  {
   "cell_type": "code",
   "execution_count": 123,
   "metadata": {},
   "outputs": [],
   "source": [
    "from tkinter import *\n",
    "\n",
    "def click():\n",
    "    name = textbox1.get()\n",
    "    message = str(\"Hello\\n\"+name)\n",
    "    textbox2[\"bg\"] = \"yellow\"\n",
    "    textbox2[\"fg\"] = \"red\"\n",
    "    textbox2[\"text\"] = message\n",
    "\n",
    "window = Tk()\n",
    "window.geometry(\"500x200\")\n",
    "label1 = Label(text=\"Enter your name:\")\n",
    "label1.place(x=30, y=20)\n",
    "textbox1 = Entry(text=\"\")\n",
    "textbox1.place(x=150, y=20, width=200, height=25)\n",
    "textbox1['justify'] = 'center'\n",
    "textbox1.focus()\n",
    "\n",
    "button1 = Button(text='Press me', command=click)\n",
    "button1.place(x=30, y=50, width=120, height=25)\n",
    "\n",
    "textbox2 = Message(text=\"\")\n",
    "textbox2.place(x=150, y=50, width=200, height=50)\n",
    "textbox2[\"bg\"] = \"white\"\n",
    "textbox2[\"fg\"] = \"black\"\n",
    "window.mainloop()"
   ]
  },
  {
   "cell_type": "code",
   "execution_count": 102,
   "metadata": {},
   "outputs": [],
   "source": [
    "\n",
    "def merge(A,B):\n",
    "    ret=[]\n",
    "    i=0;j=0\n",
    "    while i<len(A) and j<len(B):\n",
    "        if A[i]<=B[j]:\n",
    "            ret.append(A[i])\n",
    "            i+=1\n",
    "        else:\n",
    "            ret.append(B[j])\n",
    "            j+=1\n",
    "    while i<len(A):\n",
    "        ret.append(A[i])\n",
    "        i+=1\n",
    "    while j<len(B):\n",
    "        ret.append(B[j])\n",
    "        j+=1\n",
    "    return(ret)\n",
    "\n",
    "def cut(A):\n",
    "    B=A[int(len(A)/2):]\n",
    "    A=A[:int(len(A)/2)]\n",
    "    return(A,B)\n",
    "\n",
    "def naiveInsertionSort(A):\n",
    "    B = [None for i in range(len(A))] # B is a blank list of the same length as A\n",
    "    for x in A:\n",
    "        for i in range(len(B)):\n",
    "            if B[i] == None or B[i] > x:\n",
    "                # then x goes in spot i, and we should move everything over.\n",
    "                j = len(B)-1\n",
    "                while j > i:\n",
    "                    B[j] = B[j-1]\n",
    "                    j -= 1\n",
    "                B[i] = x\n",
    "                break # okay we are done placing x\n",
    "    return B\n",
    "\n",
    "def Sqrt(ls):\n",
    "    for i in range (len(ls)):#输出数组的平方\n",
    "        ls[i]=ls[i]**2\n",
    "    return(ls)\n",
    "\n",
    "def ReadTrans(path):#将读取的数据转化为整型\n",
    "    ls=[]#存储字符串类型的数据\n",
    "    data=[]\n",
    "    for line in path:\n",
    "        line=line.strip('\\n')   #将\\n去掉\n",
    "        line=line.strip('[')   #将[去掉\n",
    "        line=line.strip(']')   #将[去掉\n",
    "        line=line.split(',')   #将逗号作为分隔符将一个字符切割成一个字符数组\n",
    "        new_num=[]\n",
    "        for num in line:\n",
    "            new_num.append(int(num))#转换成数字\n",
    "        data.append(new_num)\n",
    "    return(data)\n",
    "    "
   ]
  },
  {
   "cell_type": "code",
   "execution_count": 121,
   "metadata": {},
   "outputs": [],
   "source": [
    "\n",
    "import os\n",
    "import numpy as np\n",
    "current_file = os.path.realpath('file_io.ipynb')  \n",
    "current_dir = os.path.dirname(current_file)  \n",
    "file_path_in=os.path.join(current_dir,'pro2_in1.txt')\n",
    "file_path_out=os.path.join(current_dir,'pro2_out1.txt')#txt文件位于当前文件路径\n",
    "\n",
    "\n",
    "simple_file_in = open(file_path_in, 'r')\n",
    "data=ReadTrans(simple_file_in)#读取到的数据\n",
    "simple_file_in.close()\n",
    "\n",
    "simple_file_out=open(file_path_out, 'w')\n",
    "for i in range (len(data)):\n",
    "    x=Sqrt(data[i])\n",
    "    [cut_1,cut_2]=cut(x)\n",
    "    sort_1=naiveInsertionSort(cut_1)\n",
    "    sort_2=naiveInsertionSort(cut_2)\n",
    "    merge(sort_1,sort_2)\n",
    "    simple_file_out.write(str(merge(sort_1,sort_2))+'\\n')  \n",
    "simple_file_out.close()\n",
    "\n",
    "\n",
    "\n",
    "\n",
    "\n",
    "    "
   ]
  },
  {
   "cell_type": "code",
   "execution_count": null,
   "metadata": {},
   "outputs": [],
   "source": []
  }
 ],
 "metadata": {
  "kernelspec": {
   "display_name": "Python 3",
   "language": "python",
   "name": "python3"
  },
  "language_info": {
   "codemirror_mode": {
    "name": "ipython",
    "version": 3
   },
   "file_extension": ".py",
   "mimetype": "text/x-python",
   "name": "python",
   "nbconvert_exporter": "python",
   "pygments_lexer": "ipython3",
   "version": "3.8.3"
  }
 },
 "nbformat": 4,
 "nbformat_minor": 2
}
