{
 "cells": [
  {
   "cell_type": "markdown",
   "metadata": {},
   "source": [
    "# Quick Sort"
   ]
  },
  {
   "cell_type": "code",
   "execution_count": 12,
   "metadata": {},
   "outputs": [],
   "source": [
    "def QuickSort(A):\n",
    "    if len(A)<=1:\n",
    "        return A\n",
    "    L=[]\n",
    "    R=[]\n",
    "    p=random.choice(range(len(A)))\n",
    "    E=[A[p]]\n",
    "    for i in range (len(A)):\n",
    "        if i == p:\n",
    "            continue\n",
    "        if A[i]<A[p]:\n",
    "            L.append(A[i])\n",
    "        else:\n",
    "            R.append(A[i])\n",
    "    return QuickSort(L)+E+QuickSort(R)"
   ]
  },
  {
   "cell_type": "code",
   "execution_count": 14,
   "metadata": {},
   "outputs": [
    {
     "name": "stdout",
     "output_type": "stream",
     "text": [
      "[-1, 0, 1, 2, 3, 4, 5, 6, 7, 8, 9, 22, 31]\n"
     ]
    }
   ],
   "source": [
    "#主函数：\n",
    "import math\n",
    "import random\n",
    "A=[6,4,2,9,3,8,5,1,7,22,31,0,-1]\n",
    "print(QuickSort(A))"
   ]
  },
  {
   "cell_type": "code",
   "execution_count": null,
   "metadata": {},
   "outputs": [],
   "source": []
  },
  {
   "cell_type": "code",
   "execution_count": null,
   "metadata": {},
   "outputs": [],
   "source": []
  }
 ],
 "metadata": {
  "kernelspec": {
   "display_name": "Python 3",
   "language": "python",
   "name": "python3"
  },
  "language_info": {
   "codemirror_mode": {
    "name": "ipython",
    "version": 3
   },
   "file_extension": ".py",
   "mimetype": "text/x-python",
   "name": "python",
   "nbconvert_exporter": "python",
   "pygments_lexer": "ipython3",
   "version": "3.8.3"
  }
 },
 "nbformat": 4,
 "nbformat_minor": 4
}
